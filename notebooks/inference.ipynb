{
  "nbformat": 4,
  "nbformat_minor": 0,
  "metadata": {
    "colab": {
      "name": "inference.ipynb",
      "provenance": []
    },
    "kernelspec": {
      "name": "python3",
      "display_name": "Python 3"
    }
  },
  "cells": [
    {
      "cell_type": "code",
      "metadata": {
        "id": "UZ2tS3u5t22J",
        "colab_type": "code",
        "colab": {}
      },
      "source": [
        "import tensorflow as tf\n",
        "from tensorflow import keras\n",
        "import pickle\n",
        "import pandas as pd\n",
        "from tensorflow.keras import layers\n",
        "from tensorflow.keras.preprocessing.image import ImageDataGenerator \n",
        "from tensorflow.keras.models import Sequential \n",
        "from tensorflow.keras.optimizers import Adam\n",
        "from tensorflow.keras.optimizers import RMSprop\n",
        "from tensorflow.keras.callbacks import EarlyStopping\n",
        "from sklearn.model_selection import train_test_split\n",
        "from tensorflow.keras.preprocessing import image\n",
        "from keras import backend as K \n",
        "import matplotlib.pyplot as plt\n",
        "import matplotlib.image as mpimg\n",
        "from sklearn.metrics import confusion_matrix\n",
        "%matplotlib inline\n",
        "import random\n",
        "import os\n",
        "import numpy as np"
      ],
      "execution_count": null,
      "outputs": []
    },
    {
      "cell_type": "code",
      "metadata": {
        "id": "Vqi6wAaIt4Kc",
        "colab_type": "code",
        "colab": {}
      },
      "source": [
        "model = tf.keras.models.load_model('seed_classifier.h5')"
      ],
      "execution_count": null,
      "outputs": []
    },
    {
      "cell_type": "code",
      "metadata": {
        "id": "aTL1SDpRt-Lm",
        "colab_type": "code",
        "colab": {}
      },
      "source": [
        "import glob\n",
        "import cv2\n",
        "path = glob.glob(\"/content/drive/My Drive/agdhi/*.jpg\")\n",
        "\n",
        "for frame in path:\n",
        "  img = cv2.imread(frame,1)\n",
        "  img1 = image.load_img(frame, color_mode='rgb', target_size=(224,224,3))\n",
        "  img1 = image.img_to_array(img1).astype('float32') / 255.0\n",
        "    #\n",
        "  class_ = np.argmax(model.predict(np.expand_dims(img1, axis=0))[0], axis=-1)\n",
        "  predicted_label  = class_names[class_]\n",
        "  if(predicted_label == 'Valid_Image_with_Coin'):\n",
        "  \n",
        "\n",
        "    output = img.copy()\n",
        "    img = cv2.cvtColor(img,cv2.COLOR_BGR2GRAY)\n",
        "    img = cv2.GaussianBlur(img,(21,21),cv2.BORDER_DEFAULT)\n",
        "    rows = img.shape[0]  \n",
        "    all_circs = cv2.HoughCircles(img,cv2.HOUGH_GRADIENT,1,rows,param1=50,param2=60,minRadius=0,maxRadius=0)\n",
        "    all_circs_rounded = np.uint16(np.around(all_circs))\n",
        "    for i in all_circs_rounded[0, :]:\n",
        "      cv2.circle(output, (i[0],i[1]), i[2], (0,255,0),9) \n",
        "    output = cv2.cvtColor(output,cv2.COLOR_BGR2RGB)\n",
        "    dia = (i[2]*2)\n",
        "    plt.figure(figsize=(4,3))\n",
        "    plt.title(predicted_label)\n",
        "    plt.text(0, 1.06*224, str('Diameter: '+ str(dia)), fontsize=12, color='yellow')\n",
        "    plt.axis('off')\n",
        "    plt.imshow(output)\n",
        "    plt.show()\n",
        "  else:\n",
        "    plt.figure(figsize=(4,3))\n",
        "    plt.title(predicted_label)\n",
        "    plt.axis('off')\n",
        "    plt.imshow(img1)\n",
        "    plt.show()\n",
        "\n",
        "\n"
      ],
      "execution_count": null,
      "outputs": []
    }
  ]
}